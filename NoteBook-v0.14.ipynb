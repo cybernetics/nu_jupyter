{
 "cells": [
  {
   "cell_type": "markdown",
   "metadata": {},
   "source": [
    "### Introduction\n",
    "Hello, and welcome to the Nushell project. The goal of this project is to take the Unix philosophy of shells, where pipes connect simple commands together, and bring it to the modern style of development.\n",
    "\n",
    "Nu takes cues from a lot of familiar territory: traditional shells like bash, advanced shells like PowerShell, functional programming, systems programming, and more. But rather than trying to be the jack of all trades, Nu focuses its energy on doing a few things well:\n",
    "\n",
    "* Create a flexible cross-platform shell with a modern feel\n",
    "* Allow you to mix and match commandline applications with a shell that understands the structure of your data\n",
    "* Have the level of UX polish that modern CLI apps provide\n",
    "\n",
    "The easiest way to see what Nu can do is to start with some examples, so let's dive in.\n",
    "\n",
    "The first thing you'll notice when you run a command like `ls` is that instead of a block of text coming back, you get a structured table."
   ]
  },
  {
   "cell_type": "code",
   "execution_count": 7,
   "metadata": {},
   "outputs": [
    {
     "data": {
      "text/html": [
       "<html><body><table><tr><th>name</th><th>type</th><th>size</th><th>modified</th></tr><tr><td>.azure</td><td>Dir</td><td>0 B</td><td>1 day ago</td></tr><tr><td>.cargo</td><td>Dir</td><td>0 B</td><td>2 months ago</td></tr><tr><td>.circleci</td><td>Dir</td><td>0 B</td><td>2 months ago</td></tr><tr><td>.dockerignore</td><td>File</td><td>7 B</td><td>2 months ago</td></tr><tr><td>.editorconfig</td><td>File</td><td>223 B</td><td>2 months ago</td></tr><tr><td>.github</td><td>Dir</td><td>0 B</td><td>2 months ago</td></tr><tr><td>.gitignore</td><td>File</td><td>303 B</td><td>2 weeks ago</td></tr><tr><td>.gitpod.Dockerfile</td><td>File</td><td>302 B</td><td>1 week ago</td></tr><tr><td>.gitpod.yml</td><td>File</td><td>891 B</td><td>1 week ago</td></tr><tr><td>.idea</td><td>Dir</td><td>0 B</td><td>4 days ago</td></tr><tr><td>.ipynb_checkpoints</td><td>Dir</td><td>0 B</td><td>6 mins ago</td></tr><tr><td>.theia</td><td>Dir</td><td>0 B</td><td>1 week ago</td></tr><tr><td>.vscode</td><td>Dir</td><td>0 B</td><td>4 days ago</td></tr><tr><td>CODE_OF_CONDUCT.md</td><td>File</td><td>3.4 KB</td><td>2 months ago</td></tr><tr><td>CONTRIBUTING.md</td><td>File</td><td>914 B</td><td>3 weeks ago</td></tr><tr><td>Cargo.lock</td><td>File</td><td>108.9 KB</td><td>21 hours ago</td></tr><tr><td>Cargo.toml</td><td>File</td><td>5.5 KB</td><td>1 day ago</td></tr><tr><td>LICENSE</td><td>File</td><td>1.1 KB</td><td>2 months ago</td></tr><tr><td>Makefile.toml</td><td>File</td><td>449 B</td><td>2 months ago</td></tr><tr><td>NoteBook-v1.0.ipynb</td><td>File</td><td>1.1 KB</td><td>1 min ago</td></tr><tr><td>README.md</td><td>File</td><td>14.0 KB</td><td>5 days ago</td></tr><tr><td>TODO.md</td><td>File</td><td>1.6 KB</td><td>2 months ago</td></tr><tr><td>assets</td><td>Dir</td><td>0 B</td><td>2 months ago</td></tr><tr><td>build.rs</td><td>File</td><td>78 B</td><td>2 months ago</td></tr><tr><td>crates</td><td>Dir</td><td>4.1 KB</td><td>1 day ago</td></tr><tr><td>debian</td><td>Dir</td><td>4.1 KB</td><td>2 months ago</td></tr><tr><td>docker</td><td>Dir</td><td>4.1 KB</td><td>2 months ago</td></tr><tr><td>docs</td><td>Dir</td><td>0 B</td><td>2 months ago</td></tr><tr><td>features.toml</td><td>File</td><td>632 B</td><td>2 months ago</td></tr><tr><td>images</td><td>Dir</td><td>0 B</td><td>2 months ago</td></tr><tr><td>rustfmt.toml</td><td>File</td><td>16 B</td><td>2 months ago</td></tr><tr><td>src</td><td>Dir</td><td>4.1 KB</td><td>1 day ago</td></tr><tr><td>target</td><td>Dir</td><td>0 B</td><td>21 hours ago</td></tr><tr><td>tests</td><td>Dir</td><td>0 B</td><td>2 months ago</td></tr></table></body></html>"
      ]
     },
     "metadata": {},
     "output_type": "display_data"
    }
   ],
   "source": [
    "ls"
   ]
  },
  {
   "cell_type": "markdown",
   "metadata": {},
   "source": [
    "The table is more than just showing the directory in a different way. Just like tables in a spreadsheet, this table allows us to work with the data more interactively.\n",
    "\n",
    "The first thing we'll do is to sort our table by the size. To do this, we'll take the output from `ls` and feed it into a command that can sort tables based on the contents of a column."
   ]
  },
  {
   "cell_type": "code",
   "execution_count": 8,
   "metadata": {},
   "outputs": [
    {
     "data": {
      "text/html": [
       "<html><body><table><tr><th>name</th><th>type</th><th>size</th><th>modified</th></tr><tr><td>Cargo.lock</td><td>File</td><td>108.9 KB</td><td>21 hours ago</td></tr><tr><td>README.md</td><td>File</td><td>14.0 KB</td><td>5 days ago</td></tr><tr><td>Cargo.toml</td><td>File</td><td>5.5 KB</td><td>1 day ago</td></tr><tr><td>NoteBook-v1.0.ipynb</td><td>File</td><td>4.7 KB</td><td>27 secs ago</td></tr><tr><td>src</td><td>Dir</td><td>4.1 KB</td><td>1 day ago</td></tr><tr><td>docker</td><td>Dir</td><td>4.1 KB</td><td>2 months ago</td></tr><tr><td>debian</td><td>Dir</td><td>4.1 KB</td><td>2 months ago</td></tr><tr><td>crates</td><td>Dir</td><td>4.1 KB</td><td>1 day ago</td></tr><tr><td>CODE_OF_CONDUCT.md</td><td>File</td><td>3.4 KB</td><td>2 months ago</td></tr><tr><td>TODO.md</td><td>File</td><td>1.6 KB</td><td>2 months ago</td></tr><tr><td>LICENSE</td><td>File</td><td>1.1 KB</td><td>2 months ago</td></tr><tr><td>CONTRIBUTING.md</td><td>File</td><td>914 B</td><td>3 weeks ago</td></tr><tr><td>.gitpod.yml</td><td>File</td><td>891 B</td><td>1 week ago</td></tr><tr><td>features.toml</td><td>File</td><td>632 B</td><td>2 months ago</td></tr><tr><td>Makefile.toml</td><td>File</td><td>449 B</td><td>2 months ago</td></tr><tr><td>.gitignore</td><td>File</td><td>303 B</td><td>2 weeks ago</td></tr><tr><td>.gitpod.Dockerfile</td><td>File</td><td>302 B</td><td>1 week ago</td></tr><tr><td>.editorconfig</td><td>File</td><td>223 B</td><td>2 months ago</td></tr><tr><td>build.rs</td><td>File</td><td>78 B</td><td>2 months ago</td></tr><tr><td>rustfmt.toml</td><td>File</td><td>16 B</td><td>2 months ago</td></tr><tr><td>.dockerignore</td><td>File</td><td>7 B</td><td>2 months ago</td></tr><tr><td>tests</td><td>Dir</td><td>0 B</td><td>2 months ago</td></tr><tr><td>target</td><td>Dir</td><td>0 B</td><td>21 hours ago</td></tr><tr><td>images</td><td>Dir</td><td>0 B</td><td>2 months ago</td></tr><tr><td>docs</td><td>Dir</td><td>0 B</td><td>2 months ago</td></tr><tr><td>assets</td><td>Dir</td><td>0 B</td><td>2 months ago</td></tr><tr><td>.vscode</td><td>Dir</td><td>0 B</td><td>4 days ago</td></tr><tr><td>.theia</td><td>Dir</td><td>0 B</td><td>1 week ago</td></tr><tr><td>.ipynb_checkpoints</td><td>Dir</td><td>0 B</td><td>7 mins ago</td></tr><tr><td>.idea</td><td>Dir</td><td>0 B</td><td>4 days ago</td></tr><tr><td>.github</td><td>Dir</td><td>0 B</td><td>2 months ago</td></tr><tr><td>.circleci</td><td>Dir</td><td>0 B</td><td>2 months ago</td></tr><tr><td>.cargo</td><td>Dir</td><td>0 B</td><td>2 months ago</td></tr><tr><td>.azure</td><td>Dir</td><td>0 B</td><td>1 day ago</td></tr></table></body></html>"
      ]
     },
     "metadata": {},
     "output_type": "display_data"
    }
   ],
   "source": [
    "ls | sort-by size | reverse"
   ]
  },
  {
   "cell_type": "markdown",
   "metadata": {},
   "source": [
    "You can see that to make this work we didn't pass commandline arguments to `ls`. Instead, we used the `sort-by` command that Nu provides to do the sorting of the output of the `ls` command. To see the biggest files on top, we also used `reverse`.\n",
    "\n",
    "Nu provides many commands that can work on tables. For example, we could filter the contents of the `ls` table so that it only shows files over 1 kilobyte:"
   ]
  },
  {
   "cell_type": "code",
   "execution_count": 9,
   "metadata": {},
   "outputs": [
    {
     "data": {
      "text/html": [
       "<html><body><table><tr><th>name</th><th>type</th><th>size</th><th>modified</th></tr><tr><td>CODE_OF_CONDUCT.md</td><td>File</td><td>3.4 KB</td><td>2 months ago</td></tr><tr><td>Cargo.lock</td><td>File</td><td>108.9 KB</td><td>21 hours ago</td></tr><tr><td>Cargo.toml</td><td>File</td><td>5.5 KB</td><td>1 day ago</td></tr><tr><td>LICENSE</td><td>File</td><td>1.1 KB</td><td>2 months ago</td></tr><tr><td>NoteBook-v1.0.ipynb</td><td>File</td><td>4.7 KB</td><td>1 min ago</td></tr><tr><td>README.md</td><td>File</td><td>14.0 KB</td><td>5 days ago</td></tr><tr><td>TODO.md</td><td>File</td><td>1.6 KB</td><td>2 months ago</td></tr><tr><td>crates</td><td>Dir</td><td>4.1 KB</td><td>1 day ago</td></tr><tr><td>debian</td><td>Dir</td><td>4.1 KB</td><td>2 months ago</td></tr><tr><td>docker</td><td>Dir</td><td>4.1 KB</td><td>2 months ago</td></tr><tr><td>src</td><td>Dir</td><td>4.1 KB</td><td>1 day ago</td></tr></table></body></html>"
      ]
     },
     "metadata": {},
     "output_type": "display_data"
    }
   ],
   "source": [
    "ls | where size > 1kb"
   ]
  },
  {
   "cell_type": "markdown",
   "metadata": {},
   "source": [
    "Just as in the Unix philosophy, being able to have commands talk to each other gives us ways to mix-and-match in many different combinations. Let's look at a different command:"
   ]
  },
  {
   "cell_type": "code",
   "execution_count": 11,
   "metadata": {},
   "outputs": [
    {
     "data": {
      "text/html": [
       "<html><body><table><tr><th>pid</th><th>name</th><th>status</th><th>cpu</th><th>mem</th><th>virtual</th></tr><tr><td>10912</td><td>sihost.exe</td><td>Running</td><td>0.0000</td><td>23.8 MB</td><td>10.5 MB</td></tr><tr><td>11076</td><td>svchost.exe</td><td>Running</td><td>0.0000</td><td>21.1 MB</td><td>11.2 MB</td></tr><tr><td>11216</td><td>svchost.exe</td><td>Running</td><td>0.0000</td><td>3.3 MB</td><td>2.2 MB</td></tr><tr><td>11252</td><td>svchost.exe</td><td>Running</td><td>0.0000</td><td>33.1 MB</td><td>10.3 MB</td></tr><tr><td>10484</td><td>taskhostw.exe</td><td>Running</td><td>0.0000</td><td>14.5 MB</td><td>11.8 MB</td></tr></table></body></html>"
      ]
     },
     "metadata": {},
     "output_type": "display_data"
    }
   ],
   "source": [
    "ps | first 5"
   ]
  },
  {
   "cell_type": "markdown",
   "metadata": {},
   "source": [
    "You may be familiar with the `ps` command if you've used Linux. With it, we can get a list of all the current processes that the system is running, what their status is, and what their name is. We can also see the CPU load for the process.\n",
    "\n",
    "What if we wanted to show the processes that were actively using the CPU? Just like we did with the `ls` command earlier, we can also work with the table that the `ps` command gives back to us:"
   ]
  },
  {
   "cell_type": "code",
   "execution_count": 12,
   "metadata": {},
   "outputs": [
    {
     "data": {
      "text/html": [
       "<html><body><table><tr><th>pid</th><th>name</th><th>status</th><th>cpu</th><th>mem</th><th>virtual</th></tr><tr><td>38872</td><td>RuntimeBroker.exe</td><td>Running</td><td>11.3222</td><td>20.6 MB</td><td>4.4 MB</td></tr><tr><td>30084</td><td>nu_plugin_ps.exe</td><td>Running</td><td>84.3243</td><td>4.4 MB</td><td>2.5 MB</td></tr></table></body></html>"
      ]
     },
     "metadata": {},
     "output_type": "display_data"
    }
   ],
   "source": [
    "ps | where cpu > 10"
   ]
  },
  {
   "cell_type": "markdown",
   "metadata": {},
   "source": [
    "So far, we've seen using `ls` and `ps` to list files and processes. Nu also offers other commands that can create tables of useful information. Next, let's explore `date` and `sys`.\n",
    "\n",
    "Running `date` gives us information about the current day and time:"
   ]
  },
  {
   "cell_type": "code",
   "execution_count": 22,
   "metadata": {},
   "outputs": [
    {
     "data": {
      "text/html": [
       "<html><body><table><tr><th>year</th><th>month</th><th>day</th><th>hour</th><th>minute</th><th>second</th><th>timezone</th></tr><tr><td>2020</td><td>5</td><td>19</td><td>11</td><td>7</td><td>11</td><td>-05:00</td></tr></table></body></html>"
      ]
     },
     "metadata": {},
     "output_type": "display_data"
    }
   ],
   "source": [
    "date"
   ]
  },
  {
   "cell_type": "markdown",
   "metadata": {},
   "source": [
    "Running `sys` gives information about the system that Nu is running on:"
   ]
  },
  {
   "cell_type": "code",
   "execution_count": 23,
   "metadata": {},
   "outputs": [
    {
     "data": {
      "text/html": [
       "<html><body><table><tr><th>host</th><th>cpu</th><th>disks</th><th>mem</th></tr><tr><td>[row 7 columns]</td><td>[row cores current ghz max ghz]</td><td>[table 4 rows]</td><td>[row free swap free swap total total]</td></tr></table></body></html>"
      ]
     },
     "metadata": {},
     "output_type": "display_data"
    }
   ],
   "source": [
    "sys"
   ]
  },
  {
   "cell_type": "markdown",
   "metadata": {},
   "source": [
    "This is a bit different than the tables we saw before. The `sys` command gives us a table that contains structured tables in the cells instead of simple values. To take a look at this data, we need to select the column to view:"
   ]
  },
  {
   "cell_type": "code",
   "execution_count": 24,
   "metadata": {},
   "outputs": [
    {
     "data": {
      "text/html": [
       "<html><body><table><tr><th>name</th><th>release</th><th>version</th><th>hostname</th><th>arch</th><th>uptime</th><th>sessions</th></tr><tr><td>Windows</td><td>10</td><td>18363</td><td>lifeless</td><td>x86_64</td><td>6:00:49:11</td><td>[table 1 rows]</td></tr></table></body></html>"
      ]
     },
     "metadata": {},
     "output_type": "display_data"
    }
   ],
   "source": [
    "sys | get host"
   ]
  },
  {
   "cell_type": "markdown",
   "metadata": {},
   "source": [
    "The `get` command lets us jump into the contents of a column of the table. Here, we're looking into the \"host\" column, which contains information about the host that Nu is running on. The name of the OS, the hostname, the CPU, and more. Let's get the name of the users on the system:"
   ]
  },
  {
   "cell_type": "code",
   "execution_count": 18,
   "metadata": {},
   "outputs": [
    {
     "data": {
      "text/html": [
       "<html><body>jonathan</body></html>"
      ]
     },
     "metadata": {},
     "output_type": "display_data"
    }
   ],
   "source": [
    "sys | get host.sessions"
   ]
  },
  {
   "cell_type": "markdown",
   "metadata": {},
   "source": [
    "Right now, there's just one user on the system named \"jonathan\". You'll notice that we can pass a path (the `host.sessions` part) and not just the name of the column. Nu will take the path and go to the corresponding bit of data in the table.\n",
    "\n",
    "You might have noticed something else that's different. Rather than having a table of data, we have just a single element: the string \"jonathan\". Nu works with both tables of data as well as strings. Strings are an important part of working with commands outside of Nu.\n",
    "\n",
    "Let's see how strings work outside of Nu in action. We'll take our example from before and run the external `echo` command (the `^` tells nu to not use the built-in `echo` command):"
   ]
  },
  {
   "cell_type": "code",
   "execution_count": 19,
   "metadata": {},
   "outputs": [
    {
     "data": {
      "text/html": [
       "<html><body>jonathan\r",
       "<br></body></html>"
      ]
     },
     "metadata": {},
     "output_type": "display_data"
    }
   ],
   "source": [
    "sys | get host.sessions | ^echo $it"
   ]
  },
  {
   "cell_type": "markdown",
   "metadata": {},
   "source": [
    "If this looks very similar to what we had before, you have a keen eye! It is similar, but with one important difference: we've called `^echo` with the value we saw earlier. This allows us to pass data out of Nu into `echo` (or any command outside of Nu, like `git` for example).\n",
    "\n",
    "*Note: help text for any of Nu's builtin commands can be discovered with the `help` command*:"
   ]
  },
  {
   "cell_type": "code",
   "execution_count": 20,
   "metadata": {},
   "outputs": [
    {
     "data": {
      "text/html": [
       "<html><body>Configuration management.<br><br>Usage:<br>  &gt; config {flags} <br><br>Flags:<br>  -h, --help: Display this help message<br>  -l, --load &lt;file path&gt;: load the config from the path given<br>  -s, --set &lt;any&gt;: set a value in the config, eg) --set [key value]<br>  -i, --set_into &lt;string&gt;: sets a variable from values in the pipeline<br>  -g, --get &lt;any&gt;: get a value from the config<br>  -r, --remove &lt;any&gt;: remove a value from the config<br>  -c, --clear: clear the config<br>  -p, --path: return the path to the config file<br><br>Examples:<br>  See all config values<br>  &gt; \u001b[1;36mconfig\u001b[0m<br><br>  Set completion_mode to circular<br>  &gt; \u001b[1;36mconfig\u001b[0m\u001b[37m \u001b[0m\u001b[1;34m--set\u001b[0m\u001b[37m [\u001b[0m\u001b[32mcompletion_mode\u001b[0m\u001b[37m \u001b[0m\u001b[32mcircular\u001b[0m\u001b[37m]\u001b[0m<br><br>  Store the contents of the pipeline as a path<br>  &gt; \u001b[1;36mecho\u001b[0m\u001b[37m [\u001b[0m\u001b[32m&#x27;/usr/bin&#x27;\u001b[0m\u001b[37m \u001b[0m\u001b[32m&#x27;/bin&#x27;\u001b[0m\u001b[37m] | \u001b[0m\u001b[1;36mconfig\u001b[0m\u001b[37m \u001b[0m\u001b[1;34m--set_into\u001b[0m\u001b[37m \u001b[0m\u001b[32mpath\u001b[0m<br><br>  Get the current startup commands<br>  &gt; \u001b[1;36mconfig\u001b[0m\u001b[37m \u001b[0m\u001b[1;34m--get\u001b[0m\u001b[37m \u001b[0m\u001b[32mstartup\u001b[0m<br><br>  Remove the startup commands<br>  &gt; \u001b[1;36mconfig\u001b[0m\u001b[37m \u001b[0m\u001b[1;34m--remove\u001b[0m\u001b[37m \u001b[0m\u001b[32mstartup\u001b[0m<br><br>  Clear the config (be careful!)<br>  &gt; \u001b[1;36mconfig\u001b[0m\u001b[37m \u001b[0m\u001b[1;34m--clear\u001b[0m<br><br>  Get the path to the current config file<br>  &gt; \u001b[1;36mconfig\u001b[0m\u001b[37m \u001b[0m\u001b[1;34m--path\u001b[0m<br><br></body></html>"
      ]
     },
     "metadata": {},
     "output_type": "display_data"
    }
   ],
   "source": [
    "help config"
   ]
  },
  {
   "cell_type": "code",
   "execution_count": null,
   "metadata": {},
   "outputs": [],
   "source": []
  }
 ],
 "metadata": {
  "kernelspec": {
   "display_name": "Nushell",
   "language": "",
   "name": "nu_jupyter"
  },
  "language_info": {
   "file_extension": ".txt",
   "mimetype": "text/plain",
   "name": "Any text"
  }
 },
 "nbformat": 4,
 "nbformat_minor": 4
}
